{
 "cells": [
  {
   "cell_type": "markdown",
   "metadata": {
    "deletable": false,
    "editable": false,
    "nbgrader": {
     "cell_type": "markdown",
     "checksum": "e60ebaf6c71d1c81b70709363ac45df9",
     "grade": false,
     "grade_id": "Description",
     "locked": true,
     "schema_version": 3,
     "solution": false,
     "task": false
    }
   },
   "source": [
    "#### Homework-3\n",
    "##### Total number of points: 70\n",
    "#### Due date: September 29, 2022\n",
    "\n",
    "Before you submit this homework, make sure everything runs as expected. First, restart the kernel (in the menu, select Kernel → Restart) and then run all cells (in the menubar, select Cell → Run All). You can discuss with others regarding the homework but all work must be your own.\n",
    "\n",
    "This homework will test your knowledge on data manipulation, manipulating strings and feature preprocessing. The Python notebooks shared will be helpful to solve these problems.  \n",
    "\n",
    "Steps to evaluate your solutions:\n",
    "\n",
    "Step-1: Try on Colab or Anaconda (Windows: https://docs.anaconda.com/anaconda/install/windows/ ; Mac:https://docs.anaconda.com/anaconda/install/mac-os/ ; Linux: https://docs.anaconda.com/anaconda/install/linux/)\n",
    "\n",
    "Step-2: Open the Jupyter Notebook by first launching the anaconda software console\n",
    "\n",
    "Step-3: Open the homework's .ipynb file and write your solutions at the appropriate location \"# YOUR CODE HERE\"\n",
    "\n",
    "Step-4: You can restart the kernel and click run all (in the menubar, select Cell → Run All) on the center-right on the top of this window.\n",
    "\n",
    "Step-5: Now go to \"File\" then click on \"Download as\" then click on \"Notebook (.ipynb)\" Please DO NOT change the file name and just keep it as \".ipynb\"\n",
    "\n",
    "Step-6: Go to lms.rpi.edu and upload your homework at the appropriate link to submit this homework.\n",
    "\n",
    "\n",
    "#### Please note that for any question in this assignment you will receive points ONLY if your solution passes all the test cases including hidden testcases as well. So please make sure you try to think all possible scenarios before submitting your answers.  \n",
    "- Note that hidden tests are present to ensure you are not hardcoding. \n",
    "- If caught cheating: \n",
    "    - you will receive a score of 0 for the 1st violation. \n",
    "    - for repeated incidents, you will receive an automatic 'F' grade and will be reported to the dean of Lally School of Management. "
   ]
  },
  {
   "cell_type": "markdown",
   "metadata": {
    "deletable": false,
    "editable": false,
    "nbgrader": {
     "cell_type": "markdown",
     "checksum": "bc4008beb4a0d06c26a898a3b2d8590b",
     "grade": false,
     "grade_id": "Datasets",
     "locked": true,
     "schema_version": 3,
     "solution": false,
     "task": false
    }
   },
   "source": [
    "Use the titanic dataset from this url ('https://raw.githubusercontent.com/rpi-techfundamentals/spring2019-materials/master/input/train.csv') and we will use the same dataset in some of the questions here below. "
   ]
  },
  {
   "cell_type": "markdown",
   "metadata": {
    "deletable": false,
    "editable": false,
    "nbgrader": {
     "cell_type": "markdown",
     "checksum": "41889fe74cdd94ca78917d453d443853",
     "grade": false,
     "grade_id": "Q1-desc",
     "locked": true,
     "schema_version": 3,
     "solution": false,
     "task": false
    }
   },
   "source": [
    "#### Q1. Shape of a Data Frame. \n",
    "1. Import pandas package as pd.\n",
    "2. Read the file from the 'url' and load the data into dataframe 'df' with default index.\n",
    "3. Set number of rows equal to the variable `rows` and the number of columns equal to the variable `cols`. \n",
    "4. Print out the number of rows and columns, clearly labeling each.\n",
    "\n"
   ]
  },
  {
   "cell_type": "code",
   "execution_count": 1,
   "metadata": {
    "deletable": false,
    "nbgrader": {
     "cell_type": "code",
     "checksum": "fcbf3f342cf445259bdf0b46b827a4ec",
     "grade": false,
     "grade_id": "Q1",
     "locked": false,
     "schema_version": 3,
     "solution": true,
     "task": false
    }
   },
   "outputs": [
    {
     "name": "stdout",
     "output_type": "stream",
     "text": [
      "Number of Rows : 891\n",
      "Number of Cols : 12\n"
     ]
    }
   ],
   "source": [
    "\n",
    "url='https://raw.githubusercontent.com/rpi-techfundamentals/spring2019-materials/master/input/train.csv'\n",
    "\n",
    "# YOUR CODE HERE\n",
    "import pandas as pd\n",
    "df=pd.read_csv(url)\n",
    "rows = df.shape[0]\n",
    "cols = df.shape[1]\n",
    "print(\"Number of Rows : {}\".format(rows))\n",
    "print(\"Number of Cols : {}\".format(cols))"
   ]
  },
  {
   "cell_type": "code",
   "execution_count": 2,
   "metadata": {
    "deletable": false,
    "editable": false,
    "nbgrader": {
     "cell_type": "code",
     "checksum": "f51299ec66081a98b8cd1e8d7a5197c5",
     "grade": true,
     "grade_id": "Q1-Sol-a",
     "locked": true,
     "points": 3,
     "schema_version": 3,
     "solution": false,
     "task": false
    }
   },
   "outputs": [],
   "source": [
    "#DO NOT MODIFY/DELETE THIS CELL\n",
    "assert rows==891\n",
    "assert df['Age'].sum()==21205.17\n"
   ]
  },
  {
   "cell_type": "code",
   "execution_count": 3,
   "metadata": {
    "deletable": false,
    "editable": false,
    "nbgrader": {
     "cell_type": "code",
     "checksum": "9b3db6ef00c075652c57b69b4ef20ff5",
     "grade": true,
     "grade_id": "Q1-Sol-b",
     "locked": true,
     "points": 3,
     "schema_version": 3,
     "solution": false,
     "task": false
    }
   },
   "outputs": [],
   "source": [
    "#DO NOT MODIFY/DELETE THIS CELL"
   ]
  },
  {
   "cell_type": "markdown",
   "metadata": {
    "deletable": false,
    "editable": false,
    "nbgrader": {
     "cell_type": "markdown",
     "checksum": "b851ee4c306f297879f3c97a28b40e9b",
     "grade": false,
     "grade_id": "movingForward",
     "locked": true,
     "schema_version": 3,
     "solution": false,
     "task": false
    }
   },
   "source": [
    "Now we will be using the above dataframe df to do some preprocessing operations on this data. All the required libraries for further processing will be loaded here. "
   ]
  },
  {
   "cell_type": "code",
   "execution_count": 4,
   "metadata": {
    "deletable": false,
    "editable": false,
    "nbgrader": {
     "cell_type": "code",
     "checksum": "2fe00aa97f6aca123609835d6f518a83",
     "grade": false,
     "grade_id": "packages",
     "locked": true,
     "schema_version": 3,
     "solution": false,
     "task": false
    }
   },
   "outputs": [],
   "source": [
    "import numpy as np\n",
    "import pandas as pd\n",
    "import re\n",
    "from sklearn.model_selection import train_test_split"
   ]
  },
  {
   "cell_type": "markdown",
   "metadata": {
    "deletable": false,
    "editable": false,
    "nbgrader": {
     "cell_type": "markdown",
     "checksum": "12b865f74386264296f3ff57be2ea7ed",
     "grade": false,
     "grade_id": "Q2-desc",
     "locked": true,
     "schema_version": 3,
     "solution": false,
     "task": false
    }
   },
   "source": [
    "### Q2 Dataframe Basic Analyses\n",
    "Determine how many first, second, and third class (assiging to the variables `class1`, `class2`, `class3`) passangers there are. \n",
    "\n",
    "*Hint -- Use value_counts operation* \n",
    "\n"
   ]
  },
  {
   "cell_type": "code",
   "execution_count": 5,
   "metadata": {
    "deletable": false,
    "nbgrader": {
     "cell_type": "code",
     "checksum": "ef53b59407addb5f7004aa0d6e225a4d",
     "grade": false,
     "grade_id": "Q2",
     "locked": false,
     "schema_version": 3,
     "solution": true,
     "task": false
    }
   },
   "outputs": [],
   "source": [
    "#Your answer here. \n",
    "\n",
    "# YOUR CODE HERE\n",
    "class1 = df[\"Pclass\"].value_counts()[1]\n",
    "class2 = df[\"Pclass\"].value_counts()[2]\n",
    "class3 = df[\"Pclass\"].value_counts()[3]"
   ]
  },
  {
   "cell_type": "code",
   "execution_count": 6,
   "metadata": {
    "deletable": false,
    "editable": false,
    "nbgrader": {
     "cell_type": "code",
     "checksum": "907db8c5b16e12463683db88cf267d3b",
     "grade": true,
     "grade_id": "Q2-sol-a",
     "locked": true,
     "points": 3,
     "schema_version": 3,
     "solution": false,
     "task": false
    }
   },
   "outputs": [],
   "source": [
    "#DO NOT MODIFY/DELETE THIS CELL\n",
    "assert class1>0\n",
    "assert class2>0\n",
    "assert class3>0\n",
    "\n",
    "\n",
    "\n"
   ]
  },
  {
   "cell_type": "code",
   "execution_count": 7,
   "metadata": {
    "deletable": false,
    "editable": false,
    "nbgrader": {
     "cell_type": "code",
     "checksum": "11701c91bdae30267daccf00d2e3ef72",
     "grade": true,
     "grade_id": "Q2-sol-b",
     "locked": true,
     "points": 3,
     "schema_version": 3,
     "solution": false,
     "task": false
    }
   },
   "outputs": [],
   "source": [
    "#DO NOT MODIFY/DELETE THIS CELL"
   ]
  },
  {
   "cell_type": "markdown",
   "metadata": {
    "deletable": false,
    "editable": false,
    "nbgrader": {
     "cell_type": "markdown",
     "checksum": "e6d45de99ea7cf080a8f18aab833af64",
     "grade": false,
     "grade_id": "Q3-dec",
     "locked": true,
     "schema_version": 3,
     "solution": false,
     "task": false
    }
   },
   "source": [
    "### Q3 Groupby\n",
    "\n",
    "Now use a groupby statement to calculate the mean age (use the 'age' attribute) of passengers who are of different gender. \n",
    "\n",
    "Round the age to 2 decimal places (for example 3.14156 converts to 3.14 ) and assign the resulting variable to `female_age`, `male_age`.\n",
    "\n"
   ]
  },
  {
   "cell_type": "code",
   "execution_count": 8,
   "metadata": {
    "deletable": false,
    "nbgrader": {
     "cell_type": "code",
     "checksum": "50ae9afc17f4e0ba0d60b9c0ca78c0a5",
     "grade": false,
     "grade_id": "Q3",
     "locked": false,
     "schema_version": 3,
     "solution": true,
     "task": false
    }
   },
   "outputs": [],
   "source": [
    "#Your answer \n",
    "\n",
    "# YOUR CODE HERE\n",
    "df1 = df.groupby(\"Sex\").mean()\n",
    "female_age = round(df1.loc[\"female\"][\"Age\"],2)\n",
    "male_age = round(df1.loc[\"male\"][\"Age\"],2)"
   ]
  },
  {
   "cell_type": "code",
   "execution_count": 9,
   "metadata": {
    "deletable": false,
    "editable": false,
    "nbgrader": {
     "cell_type": "code",
     "checksum": "d2fae306bc497937dfd16a532f8c0d23",
     "grade": true,
     "grade_id": "Q3-sol-a",
     "locked": true,
     "points": 3,
     "schema_version": 3,
     "solution": false,
     "task": false
    }
   },
   "outputs": [],
   "source": [
    "#DO NOT MODIFY/DELETE THIS CELL\n",
    "assert female_age>0\n",
    "assert isinstance(female_age, np.floating)\n",
    "assert male_age>0 \n",
    "assert isinstance(male_age, np.floating)\n",
    "\n"
   ]
  },
  {
   "cell_type": "code",
   "execution_count": 10,
   "metadata": {
    "deletable": false,
    "editable": false,
    "nbgrader": {
     "cell_type": "code",
     "checksum": "51f6464a79b45f47bfbd4ecbd3c09d73",
     "grade": true,
     "grade_id": "Q3-sol-b",
     "locked": true,
     "points": 3,
     "schema_version": 3,
     "solution": false,
     "task": false
    }
   },
   "outputs": [],
   "source": [
    "#DO NOT MODIFY/DELETE THIS CELL"
   ]
  },
  {
   "cell_type": "markdown",
   "metadata": {
    "deletable": false,
    "editable": false,
    "nbgrader": {
     "cell_type": "markdown",
     "checksum": "16db0fbad1232e91c866b580f0362d78",
     "grade": false,
     "grade_id": "Q4-des",
     "locked": true,
     "schema_version": 3,
     "solution": false,
     "task": false
    }
   },
   "source": [
    "### Q4 Split Dataframe\n",
    "\n",
    "Now split the dataframe `df` into 3 different dataframes `dfclass1`, `dfclass2`, and `dfclass3` using the `Pclass` variable. \n",
    "\n"
   ]
  },
  {
   "cell_type": "code",
   "execution_count": 11,
   "metadata": {
    "deletable": false,
    "nbgrader": {
     "cell_type": "code",
     "checksum": "bfd4df7dcc57e764e8b4a65b4100c9da",
     "grade": false,
     "grade_id": "Q4",
     "locked": false,
     "schema_version": 3,
     "solution": true,
     "task": false
    }
   },
   "outputs": [],
   "source": [
    "#Your answer\n",
    "\n",
    "# YOUR CODE HERE\n",
    "dfclass1= df[df[\"Pclass\"]==1]\n",
    "dfclass2= df[df[\"Pclass\"]==2]\n",
    "dfclass3 = df[df[\"Pclass\"]==3]"
   ]
  },
  {
   "cell_type": "code",
   "execution_count": 12,
   "metadata": {
    "deletable": false,
    "editable": false,
    "nbgrader": {
     "cell_type": "code",
     "checksum": "1dc9b75e775fb938c64a7ef077f448d9",
     "grade": true,
     "grade_id": "Q4-sol-a",
     "locked": true,
     "points": 2,
     "schema_version": 3,
     "solution": false,
     "task": false
    }
   },
   "outputs": [],
   "source": [
    "#DO NOT MODIFY/DELETE THIS CELL\n",
    "assert len(dfclass1)>0\n",
    "assert len(dfclass2)>0\n",
    "assert len(dfclass3)>0\n",
    "assert isinstance(dfclass1, pd.DataFrame)\n",
    "assert isinstance(dfclass2, pd.DataFrame)\n",
    "assert isinstance(dfclass3, pd.DataFrame)\n"
   ]
  },
  {
   "cell_type": "code",
   "execution_count": 13,
   "metadata": {
    "deletable": false,
    "editable": false,
    "nbgrader": {
     "cell_type": "code",
     "checksum": "3012c1fe0a18938b72e449ff2ed645ac",
     "grade": true,
     "grade_id": "Q4-sol-b1",
     "locked": true,
     "points": 2,
     "schema_version": 3,
     "solution": false,
     "task": false
    }
   },
   "outputs": [],
   "source": [
    "#DO NOT MODIFY/DELETE THIS CELL"
   ]
  },
  {
   "cell_type": "code",
   "execution_count": 14,
   "metadata": {
    "deletable": false,
    "editable": false,
    "nbgrader": {
     "cell_type": "code",
     "checksum": "2fe48ef37a998e3bada722cd2df295fd",
     "grade": true,
     "grade_id": "Q4-sol-b2",
     "locked": true,
     "points": 2,
     "schema_version": 3,
     "solution": false,
     "task": false
    }
   },
   "outputs": [],
   "source": [
    "#DO NOT MODIFY/DELETE THIS CELL"
   ]
  },
  {
   "cell_type": "code",
   "execution_count": 15,
   "metadata": {
    "deletable": false,
    "editable": false,
    "nbgrader": {
     "cell_type": "code",
     "checksum": "df9d248ac63e2cf43e89db02b802a5a1",
     "grade": true,
     "grade_id": "Q4-sol-b3",
     "locked": true,
     "points": 2,
     "schema_version": 3,
     "solution": false,
     "task": false
    }
   },
   "outputs": [],
   "source": [
    "#DO NOT MODIFY/DELETE THIS CELL"
   ]
  },
  {
   "cell_type": "markdown",
   "metadata": {},
   "source": [
    "#### Q5 Filter Missing Values\n",
    "\n",
    "Create a new dataframe `dfna1` from `df` which removes all rows in which *any* of the variables are missing.\n",
    "\n",
    "Create a new dataframe `dfna2` from `df` which removes all rows in which *all* of the variables `Age` and `Cabin` are missing."
   ]
  },
  {
   "cell_type": "code",
   "execution_count": 16,
   "metadata": {
    "deletable": false,
    "nbgrader": {
     "cell_type": "code",
     "checksum": "fe479e8a9c62ce80d420f330b3194cd0",
     "grade": false,
     "grade_id": "Q5",
     "locked": false,
     "schema_version": 3,
     "solution": true,
     "task": false
    }
   },
   "outputs": [],
   "source": [
    "\n",
    "# YOUR CODE HERE\n",
    "dfna1 = df.dropna(how=\"any\")\n",
    "dfna2 = df.dropna(subset = [\"Age\",\"Cabin\"],how=\"all\")"
   ]
  },
  {
   "cell_type": "code",
   "execution_count": 17,
   "metadata": {
    "deletable": false,
    "editable": false,
    "nbgrader": {
     "cell_type": "code",
     "checksum": "d0882dd9bd4a1b25c3d7f7f49a1a0605",
     "grade": true,
     "grade_id": "Q5-sol",
     "locked": true,
     "points": 2,
     "schema_version": 3,
     "solution": false,
     "task": false
    }
   },
   "outputs": [],
   "source": [
    "assert len(dfna1)>0\n",
    "assert len(dfna2)>0\n",
    "assert isinstance(dfna1, pd.DataFrame)\n",
    "assert isinstance(dfna2, pd.DataFrame)"
   ]
  },
  {
   "cell_type": "code",
   "execution_count": 18,
   "metadata": {
    "deletable": false,
    "editable": false,
    "nbgrader": {
     "cell_type": "code",
     "checksum": "243817df2f698bac3fee5c82ce5b0e9d",
     "grade": true,
     "grade_id": "Q5-sol-1",
     "locked": true,
     "points": 2,
     "schema_version": 3,
     "solution": false,
     "task": false
    }
   },
   "outputs": [],
   "source": [
    "#DO NOT MODIFY/DELETE THIS CELL"
   ]
  },
  {
   "cell_type": "code",
   "execution_count": 19,
   "metadata": {
    "deletable": false,
    "editable": false,
    "nbgrader": {
     "cell_type": "code",
     "checksum": "c91489f9b93cb28a2d600ea1bd6a9f43",
     "grade": true,
     "grade_id": "Q5-sol-2",
     "locked": true,
     "points": 2,
     "schema_version": 3,
     "solution": false,
     "task": false
    }
   },
   "outputs": [],
   "source": [
    "#DO NOT MODIFY/DELETE THIS CELL"
   ]
  },
  {
   "cell_type": "markdown",
   "metadata": {
    "deletable": false,
    "editable": false,
    "nbgrader": {
     "cell_type": "markdown",
     "checksum": "cac27828335c4e5ebea4aa1ee11c8bd5",
     "grade": false,
     "grade_id": "Q6-des",
     "locked": true,
     "schema_version": 3,
     "solution": false,
     "task": false
    }
   },
   "source": [
    "### Q6 Stratified sampling \n",
    "\n",
    "Utilize the original dataframe 'df'.  \n",
    "\n",
    "1. Set the `y` variable to the `Survived` column.\n",
    "2. Set X to the `SibSp`,`Parch`, and `Fare` columns of the dataframe. \n",
    "3. Create `train_X`, `test_X`, `train_y`, `test_y` by doing a 50% 50% split with stratification by the `Survived` varaible. Use `random_state` equal to 123. \n"
   ]
  },
  {
   "cell_type": "code",
   "execution_count": 20,
   "metadata": {
    "deletable": false,
    "nbgrader": {
     "cell_type": "code",
     "checksum": "c65dbcb48ad8cae97322f4d9edba9440",
     "grade": false,
     "grade_id": "Q6",
     "locked": false,
     "schema_version": 3,
     "solution": true,
     "task": false
    }
   },
   "outputs": [],
   "source": [
    "#Your answer\n",
    "\n",
    "# YOUR CODE HERE\n",
    "y = df[\"Survived\"]\n",
    "X  = df[[\"SibSp\",\"Parch\",\"Fare\"]]\n",
    "train_X, test_X, train_y, test_y = train_test_split(X,y, train_size=0.5,test_size=0.5, random_state=123, stratify=y)"
   ]
  },
  {
   "cell_type": "code",
   "execution_count": 21,
   "metadata": {
    "deletable": false,
    "editable": false,
    "nbgrader": {
     "cell_type": "code",
     "checksum": "ddf16d2f1f85c2244eabd494d147d6b8",
     "grade": true,
     "grade_id": "Q6-sol",
     "locked": true,
     "points": 2,
     "schema_version": 3,
     "solution": false,
     "task": false
    }
   },
   "outputs": [],
   "source": [
    "#DO NOT MODIFY/DELETE THIS CELL\n",
    "assert len(train_X)>0\n",
    "assert len(test_X)>0\n",
    "assert isinstance(train_X, pd.DataFrame)\n",
    "assert isinstance(test_X, pd.DataFrame)\n",
    "assert isinstance(train_y, pd.Series)\n",
    "assert isinstance(test_y, pd.Series)"
   ]
  },
  {
   "cell_type": "code",
   "execution_count": 22,
   "metadata": {
    "deletable": false,
    "editable": false,
    "nbgrader": {
     "cell_type": "code",
     "checksum": "feac72d398e24c106e63fc76298dafb6",
     "grade": true,
     "grade_id": "Q6-sol-1",
     "locked": true,
     "points": 2,
     "schema_version": 3,
     "solution": false,
     "task": false
    }
   },
   "outputs": [],
   "source": [
    "#DO NOT MODIFY/DELETE THIS CELL"
   ]
  },
  {
   "cell_type": "code",
   "execution_count": 23,
   "metadata": {
    "deletable": false,
    "editable": false,
    "nbgrader": {
     "cell_type": "code",
     "checksum": "0cad0b7323c9513178d0ed9a05646f5f",
     "grade": true,
     "grade_id": "Q6-sol-2",
     "locked": true,
     "points": 2,
     "schema_version": 3,
     "solution": false,
     "task": false
    }
   },
   "outputs": [],
   "source": [
    "#DO NOT MODIFY/DELETE THIS CELL"
   ]
  },
  {
   "cell_type": "code",
   "execution_count": 24,
   "metadata": {
    "deletable": false,
    "editable": false,
    "nbgrader": {
     "cell_type": "code",
     "checksum": "0b5037d892de0494a347a9761d73ae2c",
     "grade": true,
     "grade_id": "Q6-sol-3",
     "locked": true,
     "points": 2,
     "schema_version": 3,
     "solution": false,
     "task": false
    }
   },
   "outputs": [],
   "source": [
    "#DO NOT MODIFY/DELETE THIS CELL"
   ]
  },
  {
   "cell_type": "markdown",
   "metadata": {
    "deletable": false,
    "editable": false,
    "nbgrader": {
     "cell_type": "markdown",
     "checksum": "46ba8bc9ef6bd2da8e649b4a6f667930",
     "grade": false,
     "grade_id": "Q7-dec",
     "locked": true,
     "schema_version": 3,
     "solution": false,
     "task": false
    }
   },
   "source": [
    "#### Q7  Feature Manipulation\n",
    "1. Consider the original dataframe `df`. Create a copy of this and call it `dfage`.\n",
    "2. Remove all the rows of `dfage` in which the `Age` value is missing. \n",
    "3. Then create a new column `dfage['Age_st']` which replaces each value in the 'age' attribute with the corresponding standardized value *rounded to 2 decimal places*. You are not modifying `dfage['Age']`.\n",
    "\n",
    "\n",
    "*Hint: See this for definition of standardized value.  [https://en.wikipedia.org/wiki/Standard_score](https://en.wikipedia.org/wiki/Standard_score) You can use np.mean() and np.std() functions to compute the mean and standard deviation values.*"
   ]
  },
  {
   "cell_type": "code",
   "execution_count": 25,
   "metadata": {
    "deletable": false,
    "nbgrader": {
     "cell_type": "code",
     "checksum": "54231f2dd43d2644b6ad6ed393c46132",
     "grade": false,
     "grade_id": "Q7",
     "locked": false,
     "schema_version": 3,
     "solution": true,
     "task": false
    }
   },
   "outputs": [],
   "source": [
    "import warnings\n",
    "warnings.filterwarnings(\"ignore\")\n",
    "# YOUR CODE HERE\n",
    "dfage = df.copy(deep=True)\n",
    "dfage = df.dropna(subset=[\"Age\"])\n",
    "dfage['Age_st'] =  round((dfage['Age'] - dfage['Age'].mean()) / dfage['Age'].std(),2)"
   ]
  },
  {
   "cell_type": "code",
   "execution_count": 26,
   "metadata": {
    "deletable": false,
    "editable": false,
    "nbgrader": {
     "cell_type": "code",
     "checksum": "34bd68123c7abd36cdd3109a1b410709",
     "grade": true,
     "grade_id": "Q7-sol",
     "locked": true,
     "points": 4,
     "schema_version": 3,
     "solution": false,
     "task": false
    }
   },
   "outputs": [],
   "source": [
    "assert len(dfage)>0\n",
    "assert isinstance(dfage, pd.DataFrame)\n",
    "assert 'Age_st' in dfage.columns\n",
    "\n"
   ]
  },
  {
   "cell_type": "code",
   "execution_count": 27,
   "metadata": {
    "deletable": false,
    "editable": false,
    "nbgrader": {
     "cell_type": "code",
     "checksum": "c13561d7b627d833df7152700b0c21a1",
     "grade": true,
     "grade_id": "Q7-sol-1",
     "locked": true,
     "points": 2,
     "schema_version": 3,
     "solution": false,
     "task": false
    }
   },
   "outputs": [],
   "source": [
    "#DO NOT MODIFY/DELETE THIS CELL"
   ]
  },
  {
   "cell_type": "code",
   "execution_count": 28,
   "metadata": {
    "deletable": false,
    "editable": false,
    "nbgrader": {
     "cell_type": "code",
     "checksum": "2173307e7bb5e2344fe032fd144b0b7a",
     "grade": true,
     "grade_id": "Q7-sol-2",
     "locked": true,
     "points": 2,
     "schema_version": 3,
     "solution": false,
     "task": false
    }
   },
   "outputs": [],
   "source": [
    "#DO NOT MODIFY/DELETE THIS CELL"
   ]
  },
  {
   "cell_type": "code",
   "execution_count": 29,
   "metadata": {
    "deletable": false,
    "editable": false,
    "nbgrader": {
     "cell_type": "code",
     "checksum": "54f5c8c9a3ad1e4fe515b919069cdded",
     "grade": true,
     "grade_id": "Q7-sol-3",
     "locked": true,
     "points": 2,
     "schema_version": 3,
     "solution": false,
     "task": false
    }
   },
   "outputs": [],
   "source": [
    "#DO NOT MODIFY/DELETE THIS CELL"
   ]
  },
  {
   "cell_type": "markdown",
   "metadata": {
    "deletable": false,
    "editable": false,
    "nbgrader": {
     "cell_type": "markdown",
     "checksum": "5039f535a3a0ac9602853035b2bf95ea",
     "grade": false,
     "grade_id": "Q8-desc",
     "locked": true,
     "schema_version": 3,
     "solution": false,
     "task": false
    }
   },
   "source": [
    "#### Q8 Feature Creation 2\n",
    "1. Create a copy of df called `df8`.\n",
    "2. In `df8` create a feature called `stown` using `Embarked`.  \n",
    "\n",
    "    For the `Embarked` is 'S' make `stown` 1. \n",
    "    \n",
    "    Otherwise `stown` is 0."
   ]
  },
  {
   "cell_type": "code",
   "execution_count": 30,
   "metadata": {
    "deletable": false,
    "nbgrader": {
     "cell_type": "code",
     "checksum": "eeec8a760741f176b6aabe886bd9efc2",
     "grade": false,
     "grade_id": "Q8",
     "locked": false,
     "schema_version": 3,
     "solution": true,
     "task": false
    }
   },
   "outputs": [],
   "source": [
    "# YOUR CODE HERE\n",
    "df8 = df.copy()\n",
    "df8[\"stown\"] =df8['Embarked'].apply(lambda x: 1 if x == \"S\" else 0)"
   ]
  },
  {
   "cell_type": "code",
   "execution_count": 31,
   "metadata": {
    "deletable": false,
    "editable": false,
    "nbgrader": {
     "cell_type": "code",
     "checksum": "86a4524fede79b3c816b7e04830ec680",
     "grade": true,
     "grade_id": "Q8-sol-1",
     "locked": true,
     "points": 3,
     "schema_version": 3,
     "solution": false,
     "task": false
    }
   },
   "outputs": [],
   "source": [
    "#DO NOT MODIFY/DELETE THIS CELL\n",
    "assert set(df8['stown'])=={0,1}\n",
    "assert df8.shape==(891, 13)\n"
   ]
  },
  {
   "cell_type": "code",
   "execution_count": 32,
   "metadata": {
    "deletable": false,
    "editable": false,
    "nbgrader": {
     "cell_type": "code",
     "checksum": "fba7ced03b5133b3c64f5fb552a336bb",
     "grade": true,
     "grade_id": "Q8-sol-2",
     "locked": true,
     "points": 3,
     "schema_version": 3,
     "solution": false,
     "task": false
    }
   },
   "outputs": [],
   "source": [
    "#DO NOT MODIFY/DELETE THIS CELL"
   ]
  },
  {
   "cell_type": "markdown",
   "metadata": {
    "deletable": false,
    "editable": false,
    "nbgrader": {
     "cell_type": "markdown",
     "checksum": "d6d33c552ed4058db60561aa52c3d496",
     "grade": false,
     "grade_id": "Q9-des",
     "locked": true,
     "schema_version": 3,
     "solution": false,
     "task": false
    }
   },
   "source": [
    "### Q9. Beautiful Soup\n",
    "Use the html content shared here below and parse it using the 'soup' object to \n",
    "assign all the unique 'Hometown' values to as a list object `hts`\n",
    "\n",
    "\n",
    "Strip any leading or trailing white space and convert each value of the hometown in `hts` to a lower-case.\n",
    "\n",
    "\n",
    "Print the final answer."
   ]
  },
  {
   "cell_type": "code",
   "execution_count": 33,
   "metadata": {
    "deletable": false,
    "nbgrader": {
     "cell_type": "code",
     "checksum": "aed2afddc547197356c74c899d0f2f5e",
     "grade": false,
     "grade_id": "Q9",
     "locked": false,
     "schema_version": 3,
     "solution": true,
     "task": false
    }
   },
   "outputs": [
    {
     "name": "stdout",
     "output_type": "stream",
     "text": [
      "['johnstown', 'pittston']\n"
     ]
    }
   ],
   "source": [
    "\n",
    "\n",
    "import requests\n",
    "from bs4 import BeautifulSoup\n",
    "import operator\n",
    "import pandas as pd\n",
    "import json\n",
    "newtext = \"\"\"\n",
    "<p>\n",
    "    <strong class=\"person1\">YOB:</strong> 1990<br />\n",
    "    <strong class=\"person1\">GENDER:</strong> FEMALE<br />\n",
    "    <strong class=\"person1\">EYE COLOR:</strong> GREEN<br />\n",
    "    <strong class=\"person1\">HAIR COLOR:</strong> BROWN<br />\n",
    "    <strong class=\"person1\">GPA:</strong> 4<br />\n",
    "    <strong class=\"person1\">Hometown:</strong> Johnstown<br />\n",
    "</p>\n",
    "\n",
    "<p>\n",
    "    <strong class=\"person2\">YOB:</strong> 1993<br />\n",
    "    <strong class=\"person2\">GENDER:</strong> FEMALE<br />\n",
    "    <strong class=\"person2\">EYE COLOR:</strong> BROWN<br />\n",
    "    <strong class=\"person2\">HAIR COLOR:</strong> BLACK<br />\n",
    "    <strong class=\"person2\">GPA:</strong> 3.5<br />\n",
    "    <strong class=\"person2\">Hometown:</strong> Pittston<br />\n",
    "</p>\n",
    "\n",
    "\"\"\"\n",
    "# YOUR CODE HERE\n",
    "hts=[]\n",
    "soup = BeautifulSoup(newtext)\n",
    "# YOUR CODE HERE\n",
    "p =  soup.find_all('p')\n",
    "\n",
    "for i in range(len(p)):\n",
    "    ext = p[i].find(text='Hometown:')\n",
    "    hts.append(ext.next)\n",
    "    \n",
    "hts = [x.strip() for x in hts]\n",
    "hts = [x.lower() for x in hts]\n",
    "print(hts)"
   ]
  },
  {
   "cell_type": "code",
   "execution_count": 34,
   "metadata": {
    "deletable": false,
    "editable": false,
    "nbgrader": {
     "cell_type": "code",
     "checksum": "fd574e607184acb207ea1c77d47cfac6",
     "grade": true,
     "grade_id": "Q9-sol",
     "locked": true,
     "points": 4,
     "schema_version": 3,
     "solution": false,
     "task": false
    }
   },
   "outputs": [],
   "source": [
    "#DO NOT MODIFY/DELETE THIS CELL\n",
    "assert len(hts)==2\n",
    "assert hts==['johnstown', 'pittston']"
   ]
  },
  {
   "cell_type": "markdown",
   "metadata": {
    "deletable": false,
    "editable": false,
    "nbgrader": {
     "cell_type": "markdown",
     "checksum": "90bece27d8dd39369734d5dfa361d152",
     "grade": false,
     "grade_id": "Q10-des",
     "locked": true,
     "schema_version": 3,
     "solution": false,
     "task": false
    }
   },
   "source": [
    "### Q10 String operations\n",
    "\n",
    "1. Given a string `str10` first split the string into words, strip any leading or trailing white space, and convert them to lowercase. \n",
    "2. Now using the 'join' operation we learnt in the class, concatenate these words to a new string `str11` with a '-' between each.\n",
    "\n",
    "For example: str1 is 'it is cold today' to str2 will be: 'it-is-cold-today'\n"
   ]
  },
  {
   "cell_type": "code",
   "execution_count": 35,
   "metadata": {
    "deletable": false,
    "nbgrader": {
     "cell_type": "code",
     "checksum": "16b5137813a21d97fa20ab587edc7933",
     "grade": false,
     "grade_id": "Q10",
     "locked": false,
     "schema_version": 3,
     "solution": true,
     "task": false
    }
   },
   "outputs": [],
   "source": [
    "\n",
    "str10 = 'Email the company at xyz@abcd.com and is the easiest way compared to tweet @abcdxyz'\n",
    "# YOUR CODE HERE\n",
    "lst= list(str10.split())\n",
    "lst = [x.strip() for x in lst]\n",
    "lst = [x.lower() for x in lst]\n",
    "str11= '-'.join(lst)\n"
   ]
  },
  {
   "cell_type": "code",
   "execution_count": 36,
   "metadata": {
    "deletable": false,
    "editable": false,
    "nbgrader": {
     "cell_type": "code",
     "checksum": "b733652a3aaa75ae59dc69cb67d65589",
     "grade": true,
     "grade_id": "Q10-sol",
     "locked": true,
     "points": 2,
     "schema_version": 3,
     "solution": false,
     "task": false
    }
   },
   "outputs": [],
   "source": [
    "#DO NOT MODIFY/DELETE THIS CELL\n",
    "assert len(str11)==83\n"
   ]
  },
  {
   "cell_type": "code",
   "execution_count": 37,
   "metadata": {
    "deletable": false,
    "editable": false,
    "nbgrader": {
     "cell_type": "code",
     "checksum": "42a396d18ffa73b99676c26566ba7357",
     "grade": true,
     "grade_id": "Q10-sol-2",
     "locked": true,
     "points": 2,
     "schema_version": 3,
     "solution": false,
     "task": false
    }
   },
   "outputs": [],
   "source": [
    "#DO NOT MODIFY/DELETE THIS CELL"
   ]
  },
  {
   "cell_type": "markdown",
   "metadata": {
    "deletable": false,
    "editable": false,
    "nbgrader": {
     "cell_type": "markdown",
     "checksum": "c6d87e4c00d8aacd2421112f51681184",
     "grade": false,
     "grade_id": "Q11-des",
     "locked": true,
     "schema_version": 3,
     "solution": false,
     "task": false
    }
   },
   "source": [
    "### Q11. Regular Expressions\n",
    "\n",
    "Create a function called `extract_email` which uses the regular expressions package to extract all the email ids mentioned in a sentence.\n",
    "\n",
    "For example:\n",
    "\n",
    "extract_email('Email the company at jondow@franks.com today.')\n",
    "\n",
    "Should return a list: `['jondow@franks.com']`\n",
    "\n"
   ]
  },
  {
   "cell_type": "code",
   "execution_count": 38,
   "metadata": {
    "deletable": false,
    "nbgrader": {
     "cell_type": "code",
     "checksum": "a3b1cf6ae63bfa106c7a11962355e7bc",
     "grade": false,
     "grade_id": "Q11",
     "locked": false,
     "schema_version": 3,
     "solution": true,
     "task": false
    }
   },
   "outputs": [],
   "source": [
    "#Your answer here\n",
    "import re\n",
    "    \n",
    "str10 = 'Email the company at jondow@franks.com today.'\n",
    "\n",
    "# YOUR CODE HERE\n",
    "def extract_email(str10):\n",
    "    match = re.findall(r'[\\w.+-]+@[\\w-]+\\.[\\w.-]+',str10)\n",
    "    return match \n"
   ]
  },
  {
   "cell_type": "code",
   "execution_count": 39,
   "metadata": {
    "deletable": false,
    "editable": false,
    "nbgrader": {
     "cell_type": "code",
     "checksum": "1e8429216e3995dc8c90ba5efe50ea12",
     "grade": true,
     "grade_id": "Q11-sol",
     "locked": true,
     "points": 2,
     "schema_version": 3,
     "solution": false,
     "task": false
    }
   },
   "outputs": [],
   "source": [
    "#DO NOT MODIFY/DELETE THIS CELL\n",
    "assert len(extract_email('Email the company at jondow@franks.com today.'))==1\n",
    "assert extract_email('Email the company at jondow@franks.com today.')==['jondow@franks.com']\n"
   ]
  },
  {
   "cell_type": "code",
   "execution_count": 40,
   "metadata": {
    "deletable": false,
    "editable": false,
    "nbgrader": {
     "cell_type": "code",
     "checksum": "d587a839e5be811dc9ade41146f5eb57",
     "grade": true,
     "grade_id": "Q11-sol2",
     "locked": true,
     "points": 2,
     "schema_version": 3,
     "solution": false,
     "task": false
    }
   },
   "outputs": [],
   "source": [
    "#DO NOT MODIFY/DELETE THIS CELL\n",
    "\n",
    "    "
   ]
  },
  {
   "cell_type": "code",
   "execution_count": 41,
   "metadata": {
    "deletable": false,
    "editable": false,
    "nbgrader": {
     "cell_type": "code",
     "checksum": "f61edaf3d9a5bbc3753809db13e3d1c3",
     "grade": true,
     "grade_id": "Q11-sol3",
     "locked": true,
     "points": 2,
     "schema_version": 3,
     "solution": false,
     "task": false
    }
   },
   "outputs": [],
   "source": [
    "#DO NOT MODIFY/DELETE THIS CELL"
   ]
  },
  {
   "cell_type": "code",
   "execution_count": null,
   "metadata": {},
   "outputs": [],
   "source": []
  }
 ],
 "metadata": {
  "kernelspec": {
   "display_name": "Python 3",
   "language": "python",
   "name": "python3"
  },
  "language_info": {
   "codemirror_mode": {
    "name": "ipython",
    "version": 3
   },
   "file_extension": ".py",
   "mimetype": "text/x-python",
   "name": "python",
   "nbconvert_exporter": "python",
   "pygments_lexer": "ipython3",
   "version": "3.8.8"
  }
 },
 "nbformat": 4,
 "nbformat_minor": 4
}
